{
 "cells": [
  {
   "cell_type": "code",
   "execution_count": 1,
   "metadata": {
    "id": "r_Wo4dhwXLtp"
   },
   "outputs": [],
   "source": [
    "import pandas as pd\n",
    "#math operations\n",
    "import numpy as np\n",
    "#machine learning\n",
    "import cv2\n",
    "import os\n",
    "from tqdm import tqdm\n",
    "import random\n",
    "#for opening and loading image\n",
    "from PIL import Image\n",
    "#for preprocessing\n",
    "from tensorflow.keras.preprocessing import image\n",
    "import matplotlib.pyplot as plt\n",
    "#Doing One hot encoding as classifier has multiple classes\n",
    "from random import shuffle\n",
    "#MobileNetV2 model\n",
    "from tensorflow.keras.applications.mobilenet_v2 import MobileNetV2\n",
    "from tensorflow.keras import Model, layers\n",
    "from numpy import loadtxt\n",
    "from tensorflow.keras.applications.imagenet_utils import preprocess_input, decode_predictions\n",
    "from tensorflow.keras.models import load_model\n",
    "import matplotlib.pyplot as plt\n",
    "import matplotlib.cm as cm\n",
    "import tensorflow as tf"
   ]
  },
  {
   "cell_type": "code",
   "execution_count": 2,
   "metadata": {
    "id": "jCsG4Z4XZQAg"
   },
   "outputs": [
    {
     "name": "stdout",
     "output_type": "stream",
     "text": [
      "WARNING:tensorflow:Mixed precision compatibility check (mixed_float16): WARNING\n",
      "The dtype policy mixed_float16 may run slowly because this machine does not have a GPU. Only Nvidia GPUs with compute capability of at least 7.0 run quickly with mixed_float16.\n",
      "If you will use compatible GPU(s) not attached to this host, e.g. by running a multi-worker model, you can ignore this warning. This message will only be logged once\n"
     ]
    }
   ],
   "source": [
    "model = load_model('model/cnn_model.h5')"
   ]
  },
  {
   "cell_type": "code",
   "execution_count": 3,
   "metadata": {
    "id": "NDgHCNphZitZ"
   },
   "outputs": [],
   "source": [
    "img1 = \"data/Tuberculosis/Tuberculosis-1.png\"\n",
    "img2 =\"data/Tuberculosis/Tuberculosis-9.png\"\n",
    "img3 = \"data/Normal/Normal-10.png\""
   ]
  },
  {
   "cell_type": "code",
   "execution_count": 4,
   "metadata": {
    "id": "qnEt5gXmZ07p"
   },
   "outputs": [],
   "source": [
    "# img_path='data/Tuberculosis/Tuberculosis-1.png'\n",
    "# img = Image.open(img_path).resize((128,128)) #target_size must agree with what the trained model expects!!\n",
    "# Function to load and preprocess an image\n",
    "def load_and_preprocess_image(img_path, target_size=(128, 128)):\n",
    "    img = image.load_img(img_path, target_size=target_size, color_mode='grayscale')\n",
    "    img = image.img_to_array(img)\n",
    "    img = np.expand_dims(img, axis=0)\n",
    "    img = img.astype('float32') / 255.0\n",
    "    img = np.repeat(img, 3, axis=-1)  # Duplicate the single channel to get 3 channels\n",
    "    return img"
   ]
  },
  {
   "cell_type": "code",
   "execution_count": 5,
   "metadata": {
    "id": "Cz7kYoBJaFLM"
   },
   "outputs": [],
   "source": [
    "# Function to predict the class of an image\n",
    "def pred_image(img_path, model):\n",
    "    img = load_and_preprocess_image(img_path)\n",
    "    \n",
    "    # Check and print the shape of the image\n",
    "    print(f\"Processed image shape: {img.shape}\")\n",
    "    \n",
    "    predictions = model.predict(img)\n",
    "    \n",
    "    # Print the raw prediction for debugging\n",
    "    print(f\"Raw prediction for {img_path}: {predictions}\")\n",
    "    \n",
    "    # Assuming binary classification with a single output representing the 'Tuberculosis' class\n",
    "    predicted_class = 'Tuberculosis' if predictions[0][0] > 0.5 else 'Normal'\n",
    "    confidence_percentage = predictions[0][0] * 100 if predicted_class == 'Tuberculosis' else (1 - predictions[0][0]) * 100\n",
    "    \n",
    "    result = [(predicted_class, confidence_percentage)]\n",
    "    return result"
   ]
  },
  {
   "cell_type": "code",
   "execution_count": 6,
   "metadata": {
    "colab": {
     "base_uri": "https://localhost:8080/"
    },
    "id": "BpUieoj4aGNE",
    "outputId": "a4dbd807-3131-4365-e6d0-88bdc25329ee"
   },
   "outputs": [
    {
     "name": "stdout",
     "output_type": "stream",
     "text": [
      "Processed image shape: (1, 128, 128, 3)\n",
      "1/1 [==============================] - 0s 166ms/step\n",
      "Raw prediction for data/Tuberculosis/Tuberculosis-1.png: [[0.963023]]\n"
     ]
    },
    {
     "data": {
      "text/plain": [
       "[('Tuberculosis', 96.30230069160461)]"
      ]
     },
     "execution_count": 6,
     "metadata": {},
     "output_type": "execute_result"
    }
   ],
   "source": [
    "pred_image(img1,model)"
   ]
  },
  {
   "cell_type": "code",
   "execution_count": 7,
   "metadata": {
    "colab": {
     "base_uri": "https://localhost:8080/"
    },
    "id": "7EceB-jfCRaD",
    "outputId": "b753b944-a713-4759-9cc9-a5558dc16c4f"
   },
   "outputs": [
    {
     "name": "stdout",
     "output_type": "stream",
     "text": [
      "Processed image shape: (1, 128, 128, 3)\n",
      "1/1 [==============================] - 0s 52ms/step\n",
      "Raw prediction for data/Tuberculosis/Tuberculosis-9.png: [[0.99767584]]\n"
     ]
    },
    {
     "data": {
      "text/plain": [
       "[('Tuberculosis', 99.76758360862732)]"
      ]
     },
     "execution_count": 7,
     "metadata": {},
     "output_type": "execute_result"
    }
   ],
   "source": [
    "pred_image(img2,model)"
   ]
  },
  {
   "cell_type": "code",
   "execution_count": 8,
   "metadata": {
    "colab": {
     "base_uri": "https://localhost:8080/"
    },
    "id": "KgwzwEGeCRRU",
    "outputId": "fcbe45c6-4c9c-40f2-e1c3-a02fc4a61559"
   },
   "outputs": [
    {
     "name": "stdout",
     "output_type": "stream",
     "text": [
      "Processed image shape: (1, 128, 128, 3)\n",
      "1/1 [==============================] - 0s 55ms/step\n",
      "Raw prediction for data/Normal/Normal-10.png: [[7.4344566e-06]]\n"
     ]
    },
    {
     "data": {
      "text/plain": [
       "[('Normal', 99.99925655433799)]"
      ]
     },
     "execution_count": 8,
     "metadata": {},
     "output_type": "execute_result"
    }
   ],
   "source": [
    "pred_image(img3,model)"
   ]
  },
  {
   "cell_type": "code",
   "execution_count": 9,
   "metadata": {
    "id": "ksjl8iYyaJVj"
   },
   "outputs": [],
   "source": [
    "def make_gradcam_heatmap(img_array, model, last_conv_layer_name, pred_index=None):\n",
    "    # Create a model that maps the input image to the activations of the last conv layer\n",
    "    last_conv_layer = model.get_layer(last_conv_layer_name)\n",
    "    last_conv_layer_model = tf.keras.Model(model.inputs, last_conv_layer.output)\n",
    "    \n",
    "    # Create a model that maps the activations of the last conv layer to the final class predictions\n",
    "    classifier_input_shape = last_conv_layer.output.shape[1:]\n",
    "    classifier_input = tf.keras.Input(shape=classifier_input_shape)\n",
    "    \n",
    "    # Manually construct the classifier model from the appropriate layers\n",
    "    x = classifier_input\n",
    "    x = tf.keras.layers.Flatten()(x)\n",
    "    x = tf.keras.layers.Dense(6, name=\"dense_2\")(x)\n",
    "    x = tf.keras.layers.Dropout(0.5, name=\"dropout_1\")(x)\n",
    "    x = tf.keras.layers.Dense(1, name=\"dense_3\")(x)\n",
    "    \n",
    "    classifier_model = tf.keras.Model(classifier_input, x)\n",
    "    \n",
    "    # Compute the gradient of the top predicted class with regard to the output feature map of the last conv layer\n",
    "    with tf.GradientTape() as tape:\n",
    "        last_conv_layer_output = last_conv_layer_model(img_array)\n",
    "        tape.watch(last_conv_layer_output)\n",
    "        preds = classifier_model(last_conv_layer_output)\n",
    "        if pred_index is None:\n",
    "            pred_index = tf.argmax(preds[0])\n",
    "        class_channel = preds[:, pred_index]\n",
    "    \n",
    "    grads = tape.gradient(class_channel, last_conv_layer_output)\n",
    "    \n",
    "    # Compute the guided gradients\n",
    "    pooled_grads = tf.reduce_mean(grads, axis=(0, 1, 2))\n",
    "    \n",
    "    # Multiply each channel in the feature map array by \"how important this channel is\" with regard to the top predicted class\n",
    "    last_conv_layer_output = last_conv_layer_output[0]\n",
    "    heatmap = last_conv_layer_output @ pooled_grads[..., tf.newaxis]\n",
    "    heatmap = tf.squeeze(heatmap)\n",
    "    \n",
    "    # Normalize the heatmap between 0 & 1 for visualization\n",
    "    heatmap = tf.maximum(heatmap, 0) / tf.math.reduce_max(heatmap)\n",
    "    return heatmap.numpy()\n"
   ]
  },
  {
   "cell_type": "code",
   "execution_count": 10,
   "metadata": {
    "id": "i9GmcLFyaagK"
   },
   "outputs": [
    {
     "name": "stdout",
     "output_type": "stream",
     "text": [
      "1/1 [==============================] - 0s 54ms/step\n",
      "[[0.963023]]\n"
     ]
    }
   ],
   "source": [
    "def load_and_preprocess_image(img_path):\n",
    "    img = image.load_img(img_path, target_size=(128, 128), color_mode='grayscale')\n",
    "    img = image.img_to_array(img)\n",
    "    img = np.expand_dims(img, axis=0)\n",
    "    img = img.astype('float32') / 255.0\n",
    "    img = np.repeat(img, 3, axis=-1)  # Duplicate the single channel to get 3 channels\n",
    "    return img\n",
    "    \n",
    "img = load_and_preprocess_image(img1)\n",
    "\n",
    "preds = model.predict(img)\n",
    "print(preds)\n"
   ]
  },
  {
   "cell_type": "code",
   "execution_count": null,
   "metadata": {
    "colab": {
     "base_uri": "https://localhost:8080/",
     "height": 275
    },
    "id": "wEG-jjJlabJY",
    "outputId": "2b88f2cf-bd12-468b-ad1e-a72770d8b098"
   },
   "outputs": [],
   "source": [
    "# Generate class activation heatmap\n",
    "last_conv_layer_name = \"conv2d_5\"\n",
    "heatmap = make_gradcam_heatmap(img, model, last_conv_layer_name)\n",
    "# Display heatmap\n",
    "plt.matshow(heatmap)\n",
    "plt.show()"
   ]
  },
  {
   "cell_type": "code",
   "execution_count": null,
   "metadata": {
    "id": "QzTKgZ8-cCkt"
   },
   "outputs": [],
   "source": [
    "def generate_heatmap(img_path,last_conv_layer_name):\n",
    "  # Prepare image\n",
    "  img_size=(224,224)\n",
    "\n",
    "  img = Image.open(img_path).resize((224,224)) #target_size must agree with what the trained model expects!!\n",
    "\n",
    "  # Preprocessing the image\n",
    "  img = image.img_to_array(img)\n",
    "  img = np.expand_dims(img, axis=0)\n",
    "  img = img.astype('float32')/255\n",
    "\n",
    "  # Remove last layer's softmax\n",
    "  model.layers[-1].activation = None\n",
    "  heatmap = make_gradcam_heatmap(img, model, last_conv_layer_name)\n",
    "\n",
    "  return heatmap\n"
   ]
  },
  {
   "cell_type": "code",
   "execution_count": null,
   "metadata": {
    "id": "k8L6iFF-chPF"
   },
   "outputs": [],
   "source": [
    "heatmap =generate_heatmap(img2,\"dense_3\")"
   ]
  },
  {
   "cell_type": "code",
   "execution_count": null,
   "metadata": {
    "id": "fSZoK7zTamOM"
   },
   "outputs": [],
   "source": [
    "from IPython.display import Image as imgdisp, display\n",
    "def save_and_display_gradcam(img_path, heatmap, cam_path=\"/content/drive/MyDrive/skin_cancer_dataset/cam.jpg\", alpha=0.4):\n",
    "    # Load the original image\n",
    "    img = tf.keras.preprocessing.image.load_img(img_path)\n",
    "    img = tf.keras.preprocessing.image.img_to_array(img)\n",
    "\n",
    "\n",
    "    # Rescale heatmap to a range 0-255\n",
    "    heatmap = np.uint8(255 * heatmap)\n",
    "\n",
    "    # Use jet colormap to colorize heatmap\n",
    "    jet = cm.get_cmap(\"jet\")\n",
    "\n",
    "    # Use RGB values of the colormap\n",
    "    jet_colors = jet(np.arange(256))[:, :3]\n",
    "    jet_heatmap = jet_colors[heatmap]\n",
    "\n",
    "    # Create an image with RGB colorized heatmap\n",
    "    jet_heatmap = tf.keras.preprocessing.image.array_to_img(jet_heatmap)\n",
    "    jet_heatmap = jet_heatmap.resize((img.shape[1], img.shape[0]))\n",
    "    jet_heatmap = tf.keras.preprocessing.image.img_to_array(jet_heatmap)\n",
    "\n",
    "    # Superimpose the heatmap on original image\n",
    "    superimposed_img = jet_heatmap * alpha + img\n",
    "    superimposed_img = tf.keras.preprocessing.image.array_to_img(superimposed_img)\n",
    "\n",
    "    # Save the superimposed image\n",
    "    superimposed_img.save(cam_path)\n",
    "\n",
    "    # Display Grad CAM\n",
    "    display(imgdisp(cam_path))\n",
    "\n"
   ]
  },
  {
   "cell_type": "code",
   "execution_count": null,
   "metadata": {
    "colab": {
     "base_uri": "https://localhost:8080/",
     "height": 691
    },
    "id": "2vyehvhtL0sJ",
    "outputId": "dd88fa61-d233-4749-be0c-5497015dd1ea"
   },
   "outputs": [],
   "source": [
    "display(imgdisp(img1))"
   ]
  },
  {
   "cell_type": "code",
   "execution_count": null,
   "metadata": {
    "colab": {
     "base_uri": "https://localhost:8080/",
     "height": 691
    },
    "id": "djki3VPUbpRc",
    "outputId": "9b1b2bd5-1459-4c18-a363-ebc32c6c456a"
   },
   "outputs": [],
   "source": [
    "heatmap =generate_heatmap(img1,\"dense_3\")\n",
    "save_and_display_gradcam(img1, heatmap)"
   ]
  },
  {
   "cell_type": "code",
   "execution_count": null,
   "metadata": {
    "colab": {
     "base_uri": "https://localhost:8080/",
     "height": 741
    },
    "id": "sFpjF6l8eN9u",
    "outputId": "6a33d716-f3b6-4023-80ca-e22220e0fd5a"
   },
   "outputs": [],
   "source": [
    "heatmap =generate_heatmap(img2,\"dense_3\")\n",
    "save_and_display_gradcam(img2, heatmap)"
   ]
  },
  {
   "cell_type": "code",
   "execution_count": null,
   "metadata": {
    "colab": {
     "base_uri": "https://localhost:8080/",
     "height": 1000
    },
    "id": "_awJmbe9epbl",
    "outputId": "51f2836e-c153-49cc-d5c8-475c5d301736"
   },
   "outputs": [],
   "source": [
    "heatmap =generate_heatmap(img3,\"dense_3\")\n",
    "save_and_display_gradcam(img3, heatmap)"
   ]
  },
  {
   "cell_type": "code",
   "execution_count": null,
   "metadata": {
    "id": "J3ALDJ9IevFI"
   },
   "outputs": [],
   "source": []
  }
 ],
 "metadata": {
  "accelerator": "GPU",
  "colab": {
   "machine_shape": "hm",
   "provenance": []
  },
  "gpuClass": "standard",
  "kernelspec": {
   "display_name": "Python (tb_detection_env)",
   "language": "python",
   "name": "tb_detection_env"
  },
  "language_info": {
   "codemirror_mode": {
    "name": "ipython",
    "version": 3
   },
   "file_extension": ".py",
   "mimetype": "text/x-python",
   "name": "python",
   "nbconvert_exporter": "python",
   "pygments_lexer": "ipython3",
   "version": "3.10.8"
  }
 },
 "nbformat": 4,
 "nbformat_minor": 4
}
