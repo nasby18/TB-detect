{
 "cells": [
  {
   "cell_type": "code",
   "execution_count": 6,
   "id": "bdcd46e3-75ae-4185-a160-1f88f30cdf4c",
   "metadata": {},
   "outputs": [
    {
     "name": "stdout",
     "output_type": "stream",
     "text": [
      "Processed image shape: (1, 128, 128, 3)\n",
      "1/1 [==============================] - 0s 54ms/step\n",
      "Raw prediction for data/Tuberculosis/Tuberculosis-1.png: [[0.963023]]\n",
      "[('Tuberculosis', 96.30230069160461)]\n",
      "Processed image shape: (1, 128, 128, 3)\n",
      "1/1 [==============================] - 0s 58ms/step\n",
      "Raw prediction for data/Tuberculosis/Tuberculosis-9.png: [[0.99767584]]\n",
      "[('Tuberculosis', 99.76758360862732)]\n",
      "Processed image shape: (1, 128, 128, 3)\n",
      "1/1 [==============================] - 0s 53ms/step\n",
      "Raw prediction for data/Normal/Normal-10.png: [[7.4344566e-06]]\n",
      "[('Normal', 99.99925655433799)]\n"
     ]
    }
   ],
   "source": [
    "import tensorflow as tf\n",
    "import numpy as np\n",
    "from tensorflow.keras.preprocessing import image\n",
    "import matplotlib.pyplot as plt\n",
    "\n",
    "# Function to load and preprocess an image\n",
    "def load_and_preprocess_image(img_path, target_size=(128, 128)):\n",
    "    img = image.load_img(img_path, target_size=target_size, color_mode='grayscale')\n",
    "    img = image.img_to_array(img)\n",
    "    img = np.expand_dims(img, axis=0)\n",
    "    img = img.astype('float32') / 255.0\n",
    "    img = np.repeat(img, 3, axis=-1)  # Duplicate the single channel to get 3 channels\n",
    "    return img\n",
    "\n",
    "# Function to predict the class of an image\n",
    "def pred_image(img_path, model):\n",
    "    img = load_and_preprocess_image(img_path)\n",
    "    \n",
    "    # Check and print the shape of the image\n",
    "    print(f\"Processed image shape: {img.shape}\")\n",
    "    \n",
    "    predictions = model.predict(img)\n",
    "    \n",
    "    # Print the raw prediction for debugging\n",
    "    print(f\"Raw prediction for {img_path}: {predictions}\")\n",
    "    \n",
    "    # Assuming binary classification with a single output representing the 'Tuberculosis' class\n",
    "    predicted_class = 'Tuberculosis' if predictions[0][0] > 0.5 else 'Normal'\n",
    "    confidence_percentage = predictions[0][0] * 100 if predicted_class == 'Tuberculosis' else (1 - predictions[0][0]) * 100\n",
    "    \n",
    "    result = [(predicted_class, confidence_percentage)]\n",
    "    return result\n",
    "\n",
    "# Predict and print results for the images\n",
    "img1 = \"data/Tuberculosis/Tuberculosis-1.png\"\n",
    "img2 = \"data/Tuberculosis/Tuberculosis-9.png\"\n",
    "img3 = \"data/Normal/Normal-10.png\"\n",
    "\n",
    "print(pred_image(img1, model))  # Expected: Tuberculosis\n",
    "print(pred_image(img2, model))  # Expected: Tuberculosis\n",
    "print(pred_image(img3, model))  # Expected: Normal\n"
   ]
  },
  {
   "cell_type": "code",
   "execution_count": null,
   "id": "fa2d43e9-1876-4e56-99fc-f13b21dec64a",
   "metadata": {},
   "outputs": [],
   "source": []
  }
 ],
 "metadata": {
  "kernelspec": {
   "display_name": "Python (tb_detection_env)",
   "language": "python",
   "name": "tb_detection_env"
  },
  "language_info": {
   "codemirror_mode": {
    "name": "ipython",
    "version": 3
   },
   "file_extension": ".py",
   "mimetype": "text/x-python",
   "name": "python",
   "nbconvert_exporter": "python",
   "pygments_lexer": "ipython3",
   "version": "3.10.8"
  }
 },
 "nbformat": 4,
 "nbformat_minor": 5
}
